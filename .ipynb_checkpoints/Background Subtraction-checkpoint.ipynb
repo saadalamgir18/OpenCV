{
 "cells": [
  {
   "cell_type": "code",
   "execution_count": null,
   "id": "satisfied-denmark",
   "metadata": {},
   "outputs": [],
   "source": [
    "import cv2 as cv\n",
    "import numpy as np"
   ]
  },
  {
   "cell_type": "code",
   "execution_count": null,
   "id": "personalized-notification",
   "metadata": {},
   "outputs": [],
   "source": [
    "cap = cv.VideoCapture(\"Video/new/demo.mp4\")\n",
    "fgbg = cv.createBackgroundSubtractorMOG2(detectShadows=False)\n",
    "if cap.isOpened() == False:\n",
    "    print(\"Error in opening video\")\n",
    "    \n",
    "    \n",
    "frame_width = int(cap.get(3))\n",
    "frame_height = int(cap.get(4))\n",
    "fps = int(cap.get(5))\n",
    "fource = cv.VideoWriter_fourcc(*'MJPG')\n",
    "    \n",
    "out = cv.VideoWriter(\"Video/new/edges.avi\", fource, fps, (800,200),False)\n",
    "\n",
    "while(cap.isOpened()):\n",
    "    ret, frame = cap.read()\n",
    "    frame = cv.resize(frame,(200,200))\n",
    "    frame4 = cv.rotate(frame, cv.ROTATE_180)\n",
    "    frame4 = cv.Canny(frame4,100,100)\n",
    "    frame3 = cv.cvtColor(frame, cv.COLOR_BGR2GRAY)\n",
    "    frame3 = cv.Canny(frame,80,80)\n",
    "    if ret == True:\n",
    "        frame1 = cv.Canny(frame,80,80)\n",
    "        frame2 = fgbg.apply(frame)\n",
    "        final = cv.hconcat([frame1,frame2,frame3,frame4])\n",
    "        \n",
    "        out.write(final)\n",
    "        cv.imshow(\"Frame\", final)\n",
    "        if cv.waitKey(1) & 0xFF == ord('q'):\n",
    "            break\n",
    "    else:\n",
    "        break\n",
    "\n",
    "#cv.waitKey(0)\n",
    "cap.release()\n",
    "out.release()\n",
    "cv.destroyAllWindows()"
   ]
  }
 ],
 "metadata": {
  "kernelspec": {
   "display_name": "Python 3",
   "language": "python",
   "name": "python3"
  },
  "language_info": {
   "codemirror_mode": {
    "name": "ipython",
    "version": 3
   },
   "file_extension": ".py",
   "mimetype": "text/x-python",
   "name": "python",
   "nbconvert_exporter": "python",
   "pygments_lexer": "ipython3",
   "version": "3.8.10"
  }
 },
 "nbformat": 4,
 "nbformat_minor": 5
}
