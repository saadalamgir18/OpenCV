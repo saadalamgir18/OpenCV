{
 "cells": [
  {
   "cell_type": "code",
   "execution_count": 1,
   "id": "liberal-wound",
   "metadata": {},
   "outputs": [],
   "source": [
    "import numpy as np\n",
    "import pandas as pd"
   ]
  },
  {
   "cell_type": "code",
   "execution_count": 2,
   "id": "crude-analysis",
   "metadata": {},
   "outputs": [],
   "source": [
    "#!pip3 install opencv-python"
   ]
  },
  {
   "cell_type": "code",
   "execution_count": 3,
   "id": "welcome-radiation",
   "metadata": {},
   "outputs": [],
   "source": [
    "import cv2"
   ]
  },
  {
   "cell_type": "code",
   "execution_count": 4,
   "id": "latter-memorial",
   "metadata": {},
   "outputs": [],
   "source": [
    "img = cv2.imread(\"download.jpeg\")"
   ]
  },
  {
   "cell_type": "code",
   "execution_count": 5,
   "id": "perceived-rings",
   "metadata": {
    "scrolled": true
   },
   "outputs": [],
   "source": [
    "#img"
   ]
  },
  {
   "cell_type": "code",
   "execution_count": 6,
   "id": "golden-motel",
   "metadata": {},
   "outputs": [
    {
     "data": {
      "text/plain": [
       "(138, 364, 3)"
      ]
     },
     "execution_count": 6,
     "metadata": {},
     "output_type": "execute_result"
    }
   ],
   "source": [
    "img.shape"
   ]
  },
  {
   "cell_type": "code",
   "execution_count": 7,
   "id": "twenty-turkish",
   "metadata": {},
   "outputs": [
    {
     "data": {
      "text/plain": [
       "150696"
      ]
     },
     "execution_count": 7,
     "metadata": {},
     "output_type": "execute_result"
    }
   ],
   "source": [
    "img.size"
   ]
  },
  {
   "cell_type": "code",
   "execution_count": 8,
   "id": "caring-samuel",
   "metadata": {},
   "outputs": [
    {
     "data": {
      "text/plain": [
       "3"
      ]
     },
     "execution_count": 8,
     "metadata": {},
     "output_type": "execute_result"
    }
   ],
   "source": [
    "img.ndim"
   ]
  },
  {
   "cell_type": "code",
   "execution_count": 9,
   "id": "popular-tablet",
   "metadata": {},
   "outputs": [],
   "source": [
    "height,width,channel = img.shape"
   ]
  },
  {
   "cell_type": "code",
   "execution_count": 10,
   "id": "shared-front",
   "metadata": {},
   "outputs": [
    {
     "data": {
      "text/plain": [
       "138"
      ]
     },
     "execution_count": 10,
     "metadata": {},
     "output_type": "execute_result"
    }
   ],
   "source": [
    "height"
   ]
  },
  {
   "cell_type": "code",
   "execution_count": 11,
   "id": "figured-collaboration",
   "metadata": {},
   "outputs": [
    {
     "data": {
      "text/plain": [
       "364"
      ]
     },
     "execution_count": 11,
     "metadata": {},
     "output_type": "execute_result"
    }
   ],
   "source": [
    "width"
   ]
  },
  {
   "cell_type": "code",
   "execution_count": 12,
   "id": "emotional-education",
   "metadata": {},
   "outputs": [
    {
     "data": {
      "text/plain": [
       "3"
      ]
     },
     "execution_count": 12,
     "metadata": {},
     "output_type": "execute_result"
    }
   ],
   "source": [
    "channel"
   ]
  },
  {
   "cell_type": "code",
   "execution_count": 13,
   "id": "worldwide-compiler",
   "metadata": {},
   "outputs": [
    {
     "data": {
      "text/plain": [
       "numpy.ndarray"
      ]
     },
     "execution_count": 13,
     "metadata": {},
     "output_type": "execute_result"
    }
   ],
   "source": [
    "type(img)"
   ]
  },
  {
   "cell_type": "code",
   "execution_count": 14,
   "id": "fourth-hammer",
   "metadata": {},
   "outputs": [],
   "source": [
    "cv2.imshow(\"out\",img)\n",
    "cv2.waitKey(10000)\n",
    "cv2.destroyAllWindows()"
   ]
  },
  {
   "cell_type": "code",
   "execution_count": 15,
   "id": "disturbed-optimization",
   "metadata": {},
   "outputs": [],
   "source": [
    "logo = cv2.imread(\"partner-logos.png\")"
   ]
  },
  {
   "cell_type": "code",
   "execution_count": 16,
   "id": "transparent-absorption",
   "metadata": {},
   "outputs": [],
   "source": [
    "#logo"
   ]
  },
  {
   "cell_type": "code",
   "execution_count": 17,
   "id": "hydraulic-fountain",
   "metadata": {},
   "outputs": [
    {
     "data": {
      "text/plain": [
       "(400, 715, 3)"
      ]
     },
     "execution_count": 17,
     "metadata": {},
     "output_type": "execute_result"
    }
   ],
   "source": [
    "logo.shape"
   ]
  },
  {
   "cell_type": "code",
   "execution_count": 18,
   "id": "proud-europe",
   "metadata": {},
   "outputs": [
    {
     "data": {
      "text/plain": [
       "858000"
      ]
     },
     "execution_count": 18,
     "metadata": {},
     "output_type": "execute_result"
    }
   ],
   "source": [
    "logo.size"
   ]
  },
  {
   "cell_type": "code",
   "execution_count": 19,
   "id": "increased-entrepreneur",
   "metadata": {},
   "outputs": [],
   "source": [
    "cv2.imshow(\"logo\",logo)\n",
    "cv2.waitKey(1000000)\n",
    "cv2.destroyAllWindows()"
   ]
  },
  {
   "cell_type": "code",
   "execution_count": 20,
   "id": "engaging-prototype",
   "metadata": {},
   "outputs": [],
   "source": [
    "image = cv2.imread(\"download.png\")"
   ]
  },
  {
   "cell_type": "code",
   "execution_count": 21,
   "id": "impaired-knight",
   "metadata": {},
   "outputs": [],
   "source": [
    "#image"
   ]
  },
  {
   "cell_type": "code",
   "execution_count": 22,
   "id": "metallic-berkeley",
   "metadata": {},
   "outputs": [
    {
     "data": {
      "text/plain": [
       "(127, 397, 3)"
      ]
     },
     "execution_count": 22,
     "metadata": {},
     "output_type": "execute_result"
    }
   ],
   "source": [
    "image.shape"
   ]
  },
  {
   "cell_type": "code",
   "execution_count": 23,
   "id": "cultural-notion",
   "metadata": {},
   "outputs": [
    {
     "data": {
      "text/plain": [
       "(127, 397, 3)"
      ]
     },
     "execution_count": 23,
     "metadata": {},
     "output_type": "execute_result"
    }
   ],
   "source": [
    "image.shape"
   ]
  },
  {
   "cell_type": "code",
   "execution_count": 24,
   "id": "spatial-poison",
   "metadata": {},
   "outputs": [
    {
     "data": {
      "text/plain": [
       "151257"
      ]
     },
     "execution_count": 24,
     "metadata": {},
     "output_type": "execute_result"
    }
   ],
   "source": [
    "image.size"
   ]
  },
  {
   "cell_type": "code",
   "execution_count": 25,
   "id": "spare-marble",
   "metadata": {},
   "outputs": [],
   "source": [
    "cv2.imshow(\"download\", image)\n",
    "cv2.waitKey(1000000)\n",
    "cv2.destroyAllWindows()"
   ]
  },
  {
   "cell_type": "code",
   "execution_count": 26,
   "id": "removable-cornell",
   "metadata": {},
   "outputs": [],
   "source": [
    "rotate_90 = cv2.rotate(image, cv2.ROTATE_90_CLOCKWISE)"
   ]
  },
  {
   "cell_type": "code",
   "execution_count": 27,
   "id": "hybrid-denial",
   "metadata": {},
   "outputs": [],
   "source": [
    "cv2.imshow(\"download\", rotate_90)\n",
    "cv2.waitKey(1000000)\n",
    "cv2.destroyAllWindows()"
   ]
  },
  {
   "cell_type": "code",
   "execution_count": 28,
   "id": "exciting-impossible",
   "metadata": {},
   "outputs": [],
   "source": [
    "rotate_180 = cv2.rotate(image, cv2.ROTATE_180)"
   ]
  },
  {
   "cell_type": "code",
   "execution_count": 29,
   "id": "liberal-phase",
   "metadata": {},
   "outputs": [],
   "source": [
    "cv2.imshow(\"download\", rotate_180)\n",
    "cv2.waitKey(1000000)\n",
    "cv2.destroyAllWindows()"
   ]
  },
  {
   "cell_type": "code",
   "execution_count": 30,
   "id": "historic-subscription",
   "metadata": {},
   "outputs": [],
   "source": [
    "rotate_270 = cv2.rotate(image, cv2.ROTATE_90_COUNTERCLOCKWISE)"
   ]
  },
  {
   "cell_type": "code",
   "execution_count": 31,
   "id": "behavioral-kidney",
   "metadata": {},
   "outputs": [],
   "source": [
    "cv2.imshow(\"download\", rotate_270)\n",
    "cv2.waitKey(1000000)\n",
    "cv2.destroyAllWindows()"
   ]
  },
  {
   "cell_type": "code",
   "execution_count": 32,
   "id": "entitled-ability",
   "metadata": {},
   "outputs": [
    {
     "data": {
      "text/plain": [
       "True"
      ]
     },
     "execution_count": 32,
     "metadata": {},
     "output_type": "execute_result"
    }
   ],
   "source": [
    "cv2.imwrite(\"Rotated_image_270.jpg\", rotate_270)"
   ]
  },
  {
   "cell_type": "code",
   "execution_count": 33,
   "id": "pacific-hollow",
   "metadata": {},
   "outputs": [
    {
     "data": {
      "text/plain": [
       "True"
      ]
     },
     "execution_count": 33,
     "metadata": {},
     "output_type": "execute_result"
    }
   ],
   "source": [
    "cv2.imwrite(\"Rotated_image_90.jpg\", rotate_90)"
   ]
  },
  {
   "cell_type": "code",
   "execution_count": 34,
   "id": "filled-sacrifice",
   "metadata": {},
   "outputs": [
    {
     "data": {
      "text/plain": [
       "True"
      ]
     },
     "execution_count": 34,
     "metadata": {},
     "output_type": "execute_result"
    }
   ],
   "source": [
    "cv2.imwrite(\"Rotated_image_180.jpg\", rotate_180)"
   ]
  }
 ],
 "metadata": {
  "kernelspec": {
   "display_name": "Python 3",
   "language": "python",
   "name": "python3"
  },
  "language_info": {
   "codemirror_mode": {
    "name": "ipython",
    "version": 3
   },
   "file_extension": ".py",
   "mimetype": "text/x-python",
   "name": "python",
   "nbconvert_exporter": "python",
   "pygments_lexer": "ipython3",
   "version": "3.8.10"
  }
 },
 "nbformat": 4,
 "nbformat_minor": 5
}
