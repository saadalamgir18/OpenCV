{
 "cells": [
  {
   "cell_type": "code",
   "execution_count": null,
   "id": "threatened-article",
   "metadata": {},
   "outputs": [],
   "source": [
    "import cv2 as cv\n",
    "#img = cv.imread(\"lena.jpg\",1)\n",
    "import numpy as np\n",
    "\n",
    "#img = np.zeros([512,512,3], np.uint8)\n",
    "img = cv.imread(\"lena.jpg\")\n",
    "\n",
    "img = cv.line(img, (0,0), (255,255), (0,255,0),5)\n",
    "\n",
    "img = cv.arrowedLine(img, (0,255), (255,255), (0,255,0),5)\n",
    "\n",
    "img = cv.rectangle(img, (384,0), (510,128),(0,255,0),3 )\n",
    "\n",
    "#img = cv.rectangle(img, (384,0), (510,128),(0,255,0),-1)  # fill the rectangle\n",
    "\n",
    "img = cv.circle(img, (447,63), 63,(0,255,0),3)\n",
    "\n",
    "#img = cv.circle(img, (447,63), 63,(0,255,0),-1)  # to fill the circle\n",
    "\n",
    "\n",
    "font = cv.FONT_HERSHEY_SIMPLEX\n",
    "img = cv.putText(img, \"OpenCV\", (10,500), font, 3, (255,0,255), 8,cv.LINE_AA)\n",
    "\n",
    "\n",
    "cv.imshow(\"lena\", img)\n",
    "cv.waitKey(0)\n",
    "cv.destroyAllWindows()"
   ]
  }
 ],
 "metadata": {
  "kernelspec": {
   "display_name": "Python 3",
   "language": "python",
   "name": "python3"
  },
  "language_info": {
   "codemirror_mode": {
    "name": "ipython",
    "version": 3
   },
   "file_extension": ".py",
   "mimetype": "text/x-python",
   "name": "python",
   "nbconvert_exporter": "python",
   "pygments_lexer": "ipython3",
   "version": "3.8.10"
  }
 },
 "nbformat": 4,
 "nbformat_minor": 5
}
