{
 "cells": [
  {
   "cell_type": "code",
   "execution_count": null,
   "id": "jewish-palestinian",
   "metadata": {},
   "outputs": [],
   "source": [
    "import numpy as np\n",
    "import cv2 as cv"
   ]
  },
  {
   "cell_type": "code",
   "execution_count": null,
   "id": "understanding-convenience",
   "metadata": {},
   "outputs": [],
   "source": [
    "cap = cv.VideoCapture(0)\n",
    "\n",
    "if cap.isOpened() == False:\n",
    "    print(\"Error in opening video\")\n",
    "\n",
    "while(cap.isOpened()):\n",
    "    ret, frame = cap.read()\n",
    "    #frame = cv.rotate(frame, cv.ROTATE_90_COUNTERCLOCKWISE)\n",
    "    #frame = cv.Canny(frame,80,80)\n",
    "    #frame = cv.cvtColor(frame, cv.COLOR_BGR2GRAY)\n",
    "    if ret == True:\n",
    "        \n",
    "        cv.imshow(\"Frame\", frame)\n",
    "        if cv.waitKey(1) & 0xFF == ord('q'):\n",
    "            break\n",
    "    else:\n",
    "        break\n",
    "\n",
    "#cv.waitKey(0)\n",
    "cap.release()\n",
    "cv.destroyAllWindows()"
   ]
  }
 ],
 "metadata": {
  "kernelspec": {
   "display_name": "Python 3",
   "language": "python",
   "name": "python3"
  },
  "language_info": {
   "codemirror_mode": {
    "name": "ipython",
    "version": 3
   },
   "file_extension": ".py",
   "mimetype": "text/x-python",
   "name": "python",
   "nbconvert_exporter": "python",
   "pygments_lexer": "ipython3",
   "version": "3.8.10"
  }
 },
 "nbformat": 4,
 "nbformat_minor": 5
}
