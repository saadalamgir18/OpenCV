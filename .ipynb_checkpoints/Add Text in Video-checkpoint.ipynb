{
 "cells": [
  {
   "cell_type": "code",
   "execution_count": null,
   "id": "earlier-printing",
   "metadata": {},
   "outputs": [],
   "source": [
    "import cv2 as cv\n",
    "import datetime\n",
    "cap = cv.VideoCapture(0)\n",
    "# print(cap.get(cv.CAP_PROP_FRAME_WIDTH))\n",
    "# print(cap.get(cv.CAP_PROP_FRAME_HEIGHT))\n",
    "# cap.set(3,1280)\n",
    "# cap.set(4,720)\n",
    "# print(cap.get(3))\n",
    "# print(cap.get(4))\n",
    "while (cap.isOpened()):\n",
    "    ret,frame = cap.read()\n",
    "    if ret == True:\n",
    "        font = cv.FONT_HERSHEY_SIMPLEX\n",
    "        text  = \"width :\"+ str(cap.get(3))+ \" Height: \"+str(cap.get(4))\n",
    "        #datet = str(datetime.datetime.now())\n",
    "        frame = cv.putText(frame, text, (10, 50), font, 1, (0, 255, 255), 2, cv.LINE_AA)\n",
    "        #frame = cv.putText(frame, datet, (10,50), font, 1, (0,255,255),2, cv.LINE_AA)\n",
    "        cv.imshow(\"live_video\", frame)\n",
    "        if cv.waitKey(1) & 0xFF == ord(\"q\"):\n",
    "            break\n",
    "    else:\n",
    "        break\n",
    "cap.release()\n",
    "cv.destroyAllWindows()"
   ]
  }
 ],
 "metadata": {
  "kernelspec": {
   "display_name": "Python 3",
   "language": "python",
   "name": "python3"
  },
  "language_info": {
   "codemirror_mode": {
    "name": "ipython",
    "version": 3
   },
   "file_extension": ".py",
   "mimetype": "text/x-python",
   "name": "python",
   "nbconvert_exporter": "python",
   "pygments_lexer": "ipython3",
   "version": "3.8.10"
  }
 },
 "nbformat": 4,
 "nbformat_minor": 5
}
