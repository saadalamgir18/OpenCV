{
 "cells": [
  {
   "cell_type": "code",
   "execution_count": 2,
   "id": "cutting-affiliate",
   "metadata": {},
   "outputs": [],
   "source": [
    "import cv2 as cv\n",
    "import numpy as np"
   ]
  },
  {
   "cell_type": "markdown",
   "id": "reported-novel",
   "metadata": {},
   "source": [
    "# Contours"
   ]
  },
  {
   "cell_type": "code",
   "execution_count": 6,
   "id": "solved-humor",
   "metadata": {},
   "outputs": [
    {
     "name": "stdout",
     "output_type": "stream",
     "text": [
      "Number of contours:  1141\n"
     ]
    }
   ],
   "source": [
    "img = cv.imread(\"lena.jpg\")\n",
    "img_gray = cv.cvtColor(img, cv.COLOR_BGR2GRAY)\n",
    "ret, threshold = cv.threshold(img_gray, 127, 255, 0)\n",
    "\n",
    "cont, hirarchy= cv.findContours(threshold, cv.RETR_TREE, cv.CHAIN_APPROX_NONE)\n",
    "print(\"Number of contours: \", str(len(cont)))\n",
    "cv.drawContours(img, cont, -1, (0,255,0), 3)\n",
    "\n",
    "cv.imshow(\"orig\",img)\n",
    "#cv.imshow(\"cont\", img_gray)\n",
    "\n",
    "cv.waitKey(0)\n",
    "cv.destroyAllWindows()"
   ]
  },
  {
   "cell_type": "markdown",
   "id": "transparent-microphone",
   "metadata": {},
   "source": [
    "# Motion Dertection"
   ]
  },
  {
   "cell_type": "code",
   "execution_count": 28,
   "id": "adolescent-highlight",
   "metadata": {},
   "outputs": [],
   "source": [
    "a = \"car.mp4\"\n",
    "\n",
    "cap = cv.VideoCapture(0)\n",
    "\n",
    "def rescale(frame, scale = 0.90):\n",
    "    width = int(frame.shape[1]*scale)\n",
    "    height = int(frame.shape[0]*scale)\n",
    "    dimension = (width, height)\n",
    "    return cv.resize(frame, dimension, interpolation=cv.INTER_AREA)\n",
    "\n",
    "\n",
    "\n",
    "ret, frame1 = cap.read()\n",
    "ret, frame2 = cap.read()\n",
    "\n",
    "\n",
    "while (cap.isOpened() == True):\n",
    "    diff = cv.absdiff(frame1, frame2)\n",
    "    \n",
    "    gray = cv.cvtColor(diff, cv.COLOR_BGR2GRAY)\n",
    "    \n",
    "    \n",
    "    blur = cv.GaussianBlur(gray, (7,7), 0)\n",
    "    \n",
    "    _, threshold = cv.threshold(blur, 20, 200, cv.THRESH_BINARY)\n",
    "    \n",
    "    dilate = cv.dilate(threshold, None, iterations = 3)\n",
    "    \n",
    "    cont, _ = cv.findContours(dilate, cv.RETR_TREE, cv.CHAIN_APPROX_SIMPLE)\n",
    "    #cv.drawContours(frame1, cont, -1, (0,255,0), 2)\n",
    "    \n",
    "    for contours in cont:\n",
    "        \n",
    "        (x,y,w,h) = cv.boundingRect(contours)\n",
    "        \n",
    "        if cv.contourArea(contours)<5000:\n",
    "            continue\n",
    "   \n",
    "        cv.rectangle(frame1, (x, y), (x+w,y+h), (0,255,0), 2)\n",
    "    \n",
    "        cv.putText(frame1, \"Status:{}\".format(\"Movement\"), (10,30), cv.FONT_HERSHEY_SIMPLEX, 1, (0,0,255), 2)\n",
    "    \n",
    "    resc = rescale(frame1)\n",
    "    cv.imshow(\"cature\", resc)\n",
    "    \n",
    "    frame1 = frame2\n",
    "    \n",
    "    ret, frame2 = cap.read()\n",
    "    \n",
    "    \n",
    "    char = cv.waitKey(40) & 0xFF\n",
    "    \n",
    "    if char == 27:\n",
    "        break\n",
    "        \n",
    "        \n",
    "        \n",
    "cap.release()\n",
    "cv.destroyAllWindows()"
   ]
  },
  {
   "cell_type": "markdown",
   "id": "broad-plain",
   "metadata": {},
   "source": [
    "# Haar Cascade Face Classifiers"
   ]
  },
  {
   "cell_type": "code",
   "execution_count": 4,
   "id": "fantastic-intro",
   "metadata": {},
   "outputs": [],
   "source": [
    "def rescale(frame, scale = 0.50):\n",
    "    width = int(frame.shape[1]*scale)\n",
    "    height = int(frame.shape[0]*scale)\n",
    "    dimension = (width, height)\n",
    "    return cv.resize(frame, dimension, interpolation=cv.INTER_AREA)\n",
    "\n",
    "face_cascade = cv.CascadeClassifier(\"haarcascade_frontalface_default.xml\")\n",
    "\n",
    "\n",
    "cap = cv.VideoCapture(0)\n",
    "\n",
    "while (cap.isOpened()):\n",
    "    ret, frame = cap.read()\n",
    "    gray = cv.cvtColor(frame, cv.COLOR_BGR2GRAY)\n",
    "    faces = face_cascade.detectMultiScale(gray, 1.1, 4)\n",
    "    for (x,y,w,h) in faces:\n",
    "        cv.rectangle(frame, (x,y), (x+w, y+h), (0,255,0), 2)\n",
    "        \n",
    "        \n",
    "    #res = rescale(frame)\n",
    "    cv.imshow(\"Face\", frame)\n",
    "    char = cv.waitKey(1) & 0xFF\n",
    "    \n",
    "    if char == 27:\n",
    "        break\n",
    "    \n",
    "cap.release()\n",
    "cv.destroyAllWindows()       "
   ]
  },
  {
   "cell_type": "markdown",
   "id": "radical-blank",
   "metadata": {},
   "source": [
    "# Haar Cascade EYE Classifiers"
   ]
  },
  {
   "cell_type": "code",
   "execution_count": 5,
   "id": "integrated-fortune",
   "metadata": {},
   "outputs": [],
   "source": [
    "def rescale(frame, scale = 0.9):\n",
    "    width = int(frame.shape[1]*scale)\n",
    "    height = int(frame.shape[0]*scale)\n",
    "    dimension = (width, height)\n",
    "    return cv.resize(frame, dimension, interpolation=cv.INTER_AREA)\n",
    "\n",
    "face_cascade = cv.CascadeClassifier(\"haarcascade_frontalface_default.xml\")\n",
    "eye_cascade = cv.CascadeClassifier(\"haarcascade_eye_tree_eyeglasses.xml\")\n",
    "cap = cv.VideoCapture(0)\n",
    "\n",
    "while (cap.isOpened()):\n",
    "    ret, frame = cap.read()\n",
    "    gray = cv.cvtColor(frame, cv.COLOR_BGR2GRAY)\n",
    "    faces = face_cascade.detectMultiScale(gray, 1.1, 4)\n",
    "    for (x,y,w,h) in faces:\n",
    "        cv.rectangle(frame, (x,y), (x+w, y+h), (0,255,0), 2)\n",
    "        \n",
    "        roi_gray = gray[y:y+h, x:x+w]\n",
    "        roi_color = frame[y:y+h, x:x+w]\n",
    "        eye = eye_cascade.detectMultiScale(roi_gray)\n",
    "        for (ex,ey, ew,eh) in eye:\n",
    "            \n",
    "            cv.rectangle(roi_color, (ex,ey), (ex+ew, ey+eh), (0,255,0), 2)\n",
    "        \n",
    "    res = rescale(frame)\n",
    "    cv.imshow(\"Face\", res)\n",
    "    char = cv.waitKey(1) & 0xFF\n",
    "    \n",
    "    if char == 27:\n",
    "        break\n",
    "    \n",
    "cap.release()\n",
    "cv.destroyAllWindows()       "
   ]
  },
  {
   "cell_type": "code",
   "execution_count": null,
   "id": "packed-proposition",
   "metadata": {},
   "outputs": [],
   "source": []
  }
 ],
 "metadata": {
  "kernelspec": {
   "display_name": "Python 3",
   "language": "python",
   "name": "python3"
  },
  "language_info": {
   "codemirror_mode": {
    "name": "ipython",
    "version": 3
   },
   "file_extension": ".py",
   "mimetype": "text/x-python",
   "name": "python",
   "nbconvert_exporter": "python",
   "pygments_lexer": "ipython3",
   "version": "3.8.10"
  }
 },
 "nbformat": 4,
 "nbformat_minor": 5
}
